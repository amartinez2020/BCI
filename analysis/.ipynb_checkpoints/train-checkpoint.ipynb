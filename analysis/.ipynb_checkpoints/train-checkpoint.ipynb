{
 "cells": [
  {
   "cell_type": "markdown",
   "metadata": {},
   "source": [
    "# Train Linear Classifier on Binary Mental Task EEG Data"
   ]
  },
  {
   "cell_type": "code",
   "execution_count": 1,
   "metadata": {},
   "outputs": [],
   "source": [
    "from analysis_helpers import *\n",
    "\n",
    "#experiment title\n",
    "title = \"BCI\""
   ]
  },
  {
   "cell_type": "markdown",
   "metadata": {},
   "source": [
    "## Get Subject Information"
   ]
  },
  {
   "cell_type": "code",
   "execution_count": 2,
   "metadata": {},
   "outputs": [],
   "source": [
    "#navigate to subject data\n",
    "subject_info = get_subject_info(title)\n",
    "os.chdir(f'../data/{subject_info}')"
   ]
  },
  {
   "cell_type": "markdown",
   "metadata": {},
   "source": [
    "## Set Parameters"
   ]
  },
  {
   "cell_type": "code",
   "execution_count": 3,
   "metadata": {},
   "outputs": [],
   "source": [
    "#set parameters\n",
    "classes = ['hand','word']\n",
    "classifiers = {'LDA': LinearDiscriminantAnalysis(),'LR':LogisticRegression(),'SVM':SVC()}\n",
    "transforms_dict= {'CSP': CSP(n_components=n_components, reg=None, log=True, norm_trace=False)}\n",
    "\n",
    "\n",
    "transforms = [('CSP',transforms['CSP'])]\n",
    "model = classifiers[model_name]\n",
    "model_name='LR'\n",
    "encoding = {classes[0]:0, classes[1]:1}"
   ]
  },
  {
   "cell_type": "markdown",
   "metadata": {},
   "source": [
    "## Load DataFrame"
   ]
  },
  {
   "cell_type": "code",
   "execution_count": null,
   "metadata": {},
   "outputs": [],
   "source": [
    "#load subject data as df\n",
    "df = pd.read_csv(os.path.join(os.getcwd(),f'{subject_info}.csv'))\n",
    "df.head"
   ]
  },
  {
   "cell_type": "markdown",
   "metadata": {},
   "source": [
    "## Filter and Split Data"
   ]
  },
  {
   "cell_type": "code",
   "execution_count": null,
   "metadata": {},
   "outputs": [],
   "source": [
    "#filter df by class\n",
    "filter_df = df[df['Category'].str.contains(classes[0]) | df['Category'].str.contains(classes[1])]\n",
    "\n",
    "#set X and y values\n",
    "X = filter_df['Feature Vector']\n",
    "y = [encoding[x] for x in list(filter_df['Category'])]\n",
    "\n",
    "#split data into train test sets\n",
    "X_train, X_test, y_train, y_test = train_test_split(X,y,test_size=0.20,random_state=1)"
   ]
  },
  {
   "cell_type": "markdown",
   "metadata": {},
   "source": [
    "## Set up Pipeline"
   ]
  },
  {
   "cell_type": "code",
   "execution_count": null,
   "metadata": {},
   "outputs": [],
   "source": [
    "#create pipeline with transform and model\n",
    "steps = transforms.append((model_name, model))\n",
    "clf = Pipeline(steps)\n",
    "print(len(X_train),len(y_train))"
   ]
  },
  {
   "cell_type": "markdown",
   "metadata": {},
   "source": [
    "##  Run Cross Validation and Fit Model"
   ]
  },
  {
   "cell_type": "code",
   "execution_count": null,
   "metadata": {},
   "outputs": [],
   "source": [
    "#get cross validation score\n",
    "scores = cross_val_score(clf, X_train, y_train, cv=k, n_jobs=1)\n",
    "print('Mean Cross Validation Score: {text}'.format(text=scores.mean()))\n",
    "\n",
    "#extract common spatial features\n",
    "X_train, X_test = csp.fit_transform(X_train, y_train), csp.transform(X_test)\n",
    "\n",
    "#fit to train data and save best model\n",
    "model.fit(X_train,y_train,verbose=1,max_iter=60)\n",
    "\n",
    "#score model on validation data\n",
    "validation_score = model.score(X_test,y_test)\n",
    "print(validation_score)"
   ]
  },
  {
   "cell_type": "markdown",
   "metadata": {},
   "source": [
    "## Save Model"
   ]
  },
  {
   "cell_type": "code",
   "execution_count": null,
   "metadata": {},
   "outputs": [],
   "source": [
    "#set save path\n",
    "save_path = os.path.join(os.getcwd(),f'{model_name}_{classes[0]}_{classes[1]}.sav')\n",
    "#save model\n",
    "joblib.dump(model,save_path)"
   ]
  }
 ],
 "metadata": {
  "kernelspec": {
   "display_name": "Python 3",
   "language": "python",
   "name": "python3"
  },
  "language_info": {
   "codemirror_mode": {
    "name": "ipython",
    "version": 3
   },
   "file_extension": ".py",
   "mimetype": "text/x-python",
   "name": "python",
   "nbconvert_exporter": "python",
   "pygments_lexer": "ipython3",
   "version": "3.7.3"
  }
 },
 "nbformat": 4,
 "nbformat_minor": 2
}
